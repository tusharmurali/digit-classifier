{
 "cells": [
  {
   "cell_type": "markdown",
   "metadata": {},
   "source": [
    "# Model Definition"
   ]
  },
  {
   "cell_type": "code",
   "execution_count": null,
   "metadata": {},
   "outputs": [],
   "source": [
    "import torch\n",
    "import torch.nn as nn\n",
    "from torchtyping import TensorType\n",
    "\n",
    "torch.manual_seed(0)\n",
    "\n",
    "class DigitRecognition(nn.Module):\n",
    "    def __init__(self):\n",
    "        super().__init__()\n",
    "        self.first_layer = nn.Linear(784, 512)\n",
    "        self.reLU = nn.ReLU()\n",
    "        self.dropout = nn.Dropout(0.2)\n",
    "        self.projection = nn.Linear(512, 10)\n",
    "        self.sigmoid = nn.Sigmoid()\n",
    "    \n",
    "    def forward(self, images: TensorType[float]) -> TensorType[float]:\n",
    "        return self.sigmoid(\n",
    "                self.projection(\n",
    "                    self.dropout(\n",
    "                        self.reLU(\n",
    "                            self.first_layer(images)\n",
    "                        )\n",
    "                    )\n",
    "                )\n",
    "            )"
   ]
  },
  {
   "cell_type": "markdown",
   "metadata": {},
   "source": [
    "# MNIST Data Loading and Preprocessing"
   ]
  },
  {
   "cell_type": "code",
   "execution_count": null,
   "metadata": {},
   "outputs": [],
   "source": [
    "from torch.utils.data import DataLoader\n",
    "import torchvision\n",
    "import torchvision.transforms as transforms\n",
    "\n",
    "# Convert images to tensor and normalize\n",
    "transform = transforms.Compose([\n",
    "    transforms.ToTensor(), \n",
    "    transforms.Normalize((0.5,), (0.5,))\n",
    "])\n",
    "# Download and load the MNIST dataset\n",
    "train_dataset = torchvision.datasets.MNIST(root='./data', train=True, download=True, transform=transform)\n",
    "test_dataset = torchvision.datasets.MNIST('./data', train=False, download=True, transform=transform)\n",
    "# Create a DataLoader to handle batching\n",
    "train_dataloader = DataLoader(train_dataset, batch_size=64, shuffle=True)\n",
    "test_dataloader = DataLoader(train_dataset, batch_size=64, shuffle=False)"
   ]
  },
  {
   "cell_type": "markdown",
   "metadata": {},
   "source": [
    "# Training Loop"
   ]
  },
  {
   "cell_type": "code",
   "execution_count": null,
   "metadata": {},
   "outputs": [],
   "source": [
    "model = DigitRecognition()\n",
    "loss_function = nn.CrossEntropyLoss()\n",
    "optimizer = torch.optim.Adam(model.parameters())\n",
    "\n",
    "# Training loop\n",
    "epochs = 5\n",
    "for epoch in range(epochs):\n",
    "    model.train() # Set the model to training mode\n",
    "    running_loss = 0.0\n",
    "    for images, labels in train_dataloader:\n",
    "        images = images.view(images.shape[0], 784) # Flatten images from 28x28 to 784\n",
    "        # Forward pass\n",
    "        model_prediction = model(images)\n",
    "        # Compute loss\n",
    "        loss = loss_function(model_prediction, labels)\n",
    "        # Backward pass and optimize\n",
    "        optimizer.zero_grad()\n",
    "        loss.backward()\n",
    "        optimizer.step()\n",
    "\n",
    "        running_loss += loss.item()\n",
    "    print(f\"Epoch {epoch+1}/{epochs}, Loss: {running_loss/len(train_dataloader)}\")"
   ]
  },
  {
   "cell_type": "markdown",
   "metadata": {},
   "source": [
    "# Testing Loop"
   ]
  },
  {
   "cell_type": "code",
   "execution_count": null,
   "metadata": {},
   "outputs": [],
   "source": [
    "import matplotlib.pyplot as plt\n",
    "\n",
    "# Set model to evaluation mode\n",
    "model.eval()\n",
    "\n",
    "correct = 0  # Variable to track correct predictions\n",
    "total = 0    # Variable to track total number of images\n",
    "\n",
    "# Iterate over the test set and make predictions\n",
    "for images, labels in test_dataloader:\n",
    "    images = images.view(images.shape[0], 784) # Flatten images from 28x28 to 784\n",
    "\n",
    "    # Get model predictions\n",
    "    model_prediction = model(images)\n",
    "    # Find the predicted class (max probability)\n",
    "    _, idx = torch.max(model_prediction, dim=1)\n",
    "\n",
    "    # Update correct and total\n",
    "    correct += (idx == labels).sum().item()\n",
    "    total += labels.size(0)\n",
    "    # Display each image and its predicted class\n",
    "    for i in range(len(images)):\n",
    "        plt.imshow(images[i].view(28, 28).detach().numpy(), cmap='gray') # Reshape back to 28x28 and plot\n",
    "        plt.show()\n",
    "        print(f'Predicted label: {idx[i].item()}')\n",
    "    \n",
    "    break # Display only the first batch (for brevity)\n",
    "\n",
    "# Calculate and print accuracy\n",
    "accuracy = 100 * correct / total\n",
    "print(f'Accuracy: {accuracy:.2f}%')"
   ]
  },
  {
   "cell_type": "markdown",
   "metadata": {},
   "source": [
    "# ONNX Export"
   ]
  },
  {
   "cell_type": "code",
   "execution_count": null,
   "metadata": {},
   "outputs": [],
   "source": [
    "# Create a dummy input that matches the input size the model expects (e.g., a 28x28 grayscale image)\n",
    "dummy_input = torch.randn(1, 784)  # Batch size of 1, 1 channel, 28x28 image\n",
    "\n",
    "# Export the model to an ONNX file\n",
    "torch.onnx.export(model, dummy_input, \"digit_recognition_model.onnx\", verbose=True)"
   ]
  }
 ],
 "metadata": {
  "kernelspec": {
   "display_name": ".venv",
   "language": "python",
   "name": "python3"
  },
  "language_info": {
   "codemirror_mode": {
    "name": "ipython",
    "version": 3
   },
   "file_extension": ".py",
   "mimetype": "text/x-python",
   "name": "python",
   "nbconvert_exporter": "python",
   "pygments_lexer": "ipython3",
   "version": "3.13.1"
  }
 },
 "nbformat": 4,
 "nbformat_minor": 2
}
